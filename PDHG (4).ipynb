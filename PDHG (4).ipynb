{
  "cells": [
    {
      "cell_type": "code",
      "execution_count": 1,
      "id": "c6970982-e9c8-4cd0-a0ca-543ff00ecf79",
      "metadata": {
        "colab": {
          "base_uri": "https://localhost:8080/"
        },
        "id": "c6970982-e9c8-4cd0-a0ca-543ff00ecf79",
        "outputId": "69cfa866-5cf1-49be-bf75-7a32933f7378"
      },
      "outputs": [
        {
          "output_type": "stream",
          "name": "stdout",
          "text": [
            "Collecting pulp\n",
            "  Downloading pulp-3.2.1-py3-none-any.whl.metadata (6.9 kB)\n",
            "Collecting cplex\n",
            "  Downloading cplex-22.1.2.0-cp311-cp311-manylinux2014_x86_64.whl.metadata (56 kB)\n",
            "\u001b[2K     \u001b[90m━━━━━━━━━━━━━━━━━━━━━━━━━━━━━━━━━━━━━━━━\u001b[0m \u001b[32m57.0/57.0 kB\u001b[0m \u001b[31m4.2 MB/s\u001b[0m eta \u001b[36m0:00:00\u001b[0m\n",
            "\u001b[?25hRequirement already satisfied: scipy in /usr/local/lib/python3.11/dist-packages (1.15.3)\n",
            "Requirement already satisfied: numpy<2.5,>=1.23.5 in /usr/local/lib/python3.11/dist-packages (from scipy) (2.0.2)\n",
            "Downloading pulp-3.2.1-py3-none-any.whl (16.4 MB)\n",
            "\u001b[2K   \u001b[90m━━━━━━━━━━━━━━━━━━━━━━━━━━━━━━━━━━━━━━━━\u001b[0m \u001b[32m16.4/16.4 MB\u001b[0m \u001b[31m47.2 MB/s\u001b[0m eta \u001b[36m0:00:00\u001b[0m\n",
            "\u001b[?25hDownloading cplex-22.1.2.0-cp311-cp311-manylinux2014_x86_64.whl (44.3 MB)\n",
            "\u001b[2K   \u001b[90m━━━━━━━━━━━━━━━━━━━━━━━━━━━━━━━━━━━━━━━━\u001b[0m \u001b[32m44.3/44.3 MB\u001b[0m \u001b[31m13.9 MB/s\u001b[0m eta \u001b[36m0:00:00\u001b[0m\n",
            "\u001b[?25hInstalling collected packages: pulp, cplex\n",
            "Successfully installed cplex-22.1.2.0 pulp-3.2.1\n"
          ]
        }
      ],
      "source": [
        "pip install pulp cplex scipy"
      ]
    },
    {
      "cell_type": "markdown",
      "id": "8f85453f-5f8b-47cc-a60f-b499d6fb75ec",
      "metadata": {
        "id": "8f85453f-5f8b-47cc-a60f-b499d6fb75ec"
      },
      "source": [
        "The general form of LP problems we will consider is:\n",
        "\n",
        "        min_x  cᵀx\n",
        "   subject to  Gx ≥ h\n",
        "               Ax = b\n",
        "               l ≤ x ≤ u\n",
        "\n",
        "The benchmark datasets use the .mps format for LP problems so there is a function to extract the parameters from this file type into the form above. But since I haven't figured out how to access these datasets yet there is also a function to generate large feasible LP example problems in the .mps format. Finally, there is a preliminary function that implements the PDHG algorithm but not yet any of the enhancments."
      ]
    },
    {
      "cell_type": "code",
      "execution_count": 6,
      "id": "d6990fd1-e684-4a7e-b118-3b454955f0eb",
      "metadata": {
        "id": "d6990fd1-e684-4a7e-b118-3b454955f0eb"
      },
      "outputs": [],
      "source": [
        "import numpy as np\n",
        "from scipy.sparse import random as sparse_random\n",
        "import pulp\n",
        "\n",
        "def generate_feasible_lp(num_vars=100, num_ineq=200, num_eq=50, density=0.05, mps_filename=\"generated_lp.mps\"):\n",
        "  '''This function generates large feasible LP problems to test and saves them in the .mps format'''\n",
        "\n",
        "  # The number of variables in each constraint with nonzero coefficients will be roughly density * num_vars\n",
        "\n",
        "  rng = np.random.default_rng(0) #Random number generator\n",
        "\n",
        "  # Step 1: (Random) Feasible solution\n",
        "  x_feas = rng.uniform(low=-10, high=10, size=(num_vars, 1))\n",
        "\n",
        "  # Step 2: Sparse matrices (convert to dense)\n",
        "  G_sparse = sparse_random(num_ineq, num_vars, density=density, format='csr', random_state=None)\n",
        "  A_sparse = sparse_random(num_eq, num_vars, density=density, format='csr', random_state=None)\n",
        "\n",
        "  G = G_sparse.toarray()\n",
        "  A = A_sparse.toarray()\n",
        "\n",
        "  # Step 3: RHS vectors\n",
        "  h = G @ x_feas #+ rng.uniform(0.1, 5.0, size=(num_ineq, 1))\n",
        "  b = A @ x_feas\n",
        "\n",
        "  # Step 4: Bounds\n",
        "  l = x_feas - rng.uniform(1, 5, size=(num_vars, 1))\n",
        "  u = x_feas + rng.uniform(1, 5, size=(num_vars, 1))\n",
        "  l = np.maximum(l, -1e4)\n",
        "  u = np.minimum(u, 1e4)\n",
        "\n",
        "  # Step 5: Objective\n",
        "  c = rng.normal(size=(num_vars, 1))\n",
        "\n",
        "  # Step 6: Write to MPS using pulp\n",
        "  prob = pulp.LpProblem(\"Feasible_LP\", pulp.LpMinimize)\n",
        "  x_vars = [\n",
        "      pulp.LpVariable(f\"x{i}\", lowBound=float(l[i]), upBound=float(u[i]))\n",
        "      for i in range(num_vars)\n",
        "  ]\n",
        "  prob += pulp.lpDot(c.flatten(), x_vars)\n",
        "\n",
        "  # Inequality constraints: Gx <= h\n",
        "  for i in range(num_ineq):\n",
        "      prob += pulp.lpDot(G[i], x_vars) <= float(h[i]), f\"ineq_{i}\"\n",
        "\n",
        "  # Equality constraints: Ax = b\n",
        "  for i in range(num_eq):\n",
        "      prob += pulp.lpDot(A[i], x_vars) == float(b[i]), f\"eq_{i}\"\n",
        "\n",
        "  prob.writeMPS(mps_filename)\n",
        "  print(f\"LP written to: {mps_filename}\")"
      ]
    },
    {
      "cell_type": "code",
      "execution_count": 9,
      "id": "6d2c3424-4a61-4caa-990e-f3f0a146dd00",
      "metadata": {
        "id": "6d2c3424-4a61-4caa-990e-f3f0a146dd00"
      },
      "outputs": [],
      "source": [
        "import numpy as np\n",
        "import cplex\n",
        "from cplex.exceptions import CplexError\n",
        "\n",
        "def mps_to_standard_form(mps_file):\n",
        "  '''\n",
        "  Extracts the parameters of the LP from the .mps format to the general form\n",
        "  Returns c, G ineq matrix, h ineq vec, A eq matrix, b eq vec, l and u lower and\n",
        "  upper box constraints\n",
        "  '''\n",
        "  try:\n",
        "      cpx = cplex.Cplex(mps_file)\n",
        "      cpx.set_results_stream(None)  # mute output\n",
        "\n",
        "      # Number of variables and constraints\n",
        "      num_vars = cpx.variables.get_num()\n",
        "      num_constraints = cpx.linear_constraints.get_num()\n",
        "\n",
        "      # Objective vector (c)\n",
        "      c = np.array(cpx.objective.get_linear())\n",
        "\n",
        "      # Constraint matrix\n",
        "      A_full = cpx.linear_constraints.get_rows()\n",
        "      senses = cpx.linear_constraints.get_senses()\n",
        "      rhs = np.array(cpx.linear_constraints.get_rhs())\n",
        "\n",
        "      A = []\n",
        "      G = []\n",
        "      b = []\n",
        "      h = []\n",
        "\n",
        "      for i, (row, sense, rhs_i) in enumerate(zip(A_full, senses, rhs)):\n",
        "          row_vec = np.zeros(num_vars)\n",
        "          for idx, val in zip(row.ind, row.val):\n",
        "              row_vec[idx] = val\n",
        "          if sense == 'E':  # Equality constraint\n",
        "              A.append(row_vec)\n",
        "              b.append(rhs_i)\n",
        "          elif sense == 'G':  # Greater than or equal\n",
        "              G.append(row_vec)\n",
        "              h.append(rhs_i)\n",
        "          elif sense == 'L':  # Less than or equal\n",
        "              # convert to -Gx ≥ -h\n",
        "              G.append(-row_vec)\n",
        "              h.append(-rhs_i)\n",
        "\n",
        "      A = np.array(A) if A else np.zeros((0, num_vars))\n",
        "      b = np.array(b) if b else np.zeros(0)\n",
        "      G = np.array(G) if G else np.zeros((0, num_vars))\n",
        "      h = np.array(h) if h else np.zeros(0)\n",
        "\n",
        "      # Bounds\n",
        "      l = np.array(cpx.variables.get_lower_bounds())\n",
        "      u = np.array(cpx.variables.get_upper_bounds())\n",
        "\n",
        "      c = c.reshape(-1, 1)\n",
        "      h = h.reshape(-1, 1)\n",
        "      b = b.reshape(-1, 1)\n",
        "      l = l.reshape(-1, 1)\n",
        "      u = u.reshape(-1, 1)\n",
        "\n",
        "      return c, G, h, A, b, l, u\n",
        "\n",
        "  except CplexError as e:\n",
        "      print(\"CPLEX Error:\", e)\n",
        "      return None"
      ]
    },
    {
      "cell_type": "code",
      "execution_count": 10,
      "id": "ac77ad94-b5b1-4e75-a60b-65732bf2f00d",
      "metadata": {
        "id": "ac77ad94-b5b1-4e75-a60b-65732bf2f00d"
      },
      "outputs": [],
      "source": [
        "import numpy as np\n",
        "\n",
        "def proj_Lam(lam):\n",
        "    return lam\n",
        "\n",
        "def pdhg(c, G, h, A, b, l, u, max_iter=1000, tol=1e-4, term_period=1000):\n",
        "    \"\"\"\n",
        "    Solves:\n",
        "        min cᵀx s.t. Gx ≥ h, Ax = b, l ≤ x ≤ u\n",
        "    using PDHG algorithm.\n",
        "    \"\"\"\n",
        "\n",
        "    # Define Parameters\n",
        "    K = np.vstack([G, A])\n",
        "    q = np.vstack([h, b])\n",
        "\n",
        "    eta = 0.9/np.linalg.norm(K, 2)\n",
        "    omega = 10\n",
        "\n",
        "    tau = eta/omega\n",
        "    sigma = eta*omega\n",
        "\n",
        "    m_1 = G.shape[0]\n",
        "    m_2 = A.shape[0]\n",
        "    n = c.shape[0]\n",
        "\n",
        "    # Termination Parameters\n",
        "    tol_dual = tol * (1 + np.linalg.norm(c))\n",
        "    tol_prim = tol * (1 + np.linalg.norm(q))\n",
        "\n",
        "    # Initialize Primal and Dual Variables\n",
        "    x = np.minimum(np.maximum(np.zeros((n, 1)), l), u)\n",
        "    y = np.zeros((m_1 + m_2, 1))\n",
        "\n",
        "    for i in range(1, max_iter + 1):\n",
        "        # Primal update\n",
        "        x_old = x.copy()\n",
        "        # Project x onto box constraints l ≤ x ≤ u\n",
        "        grad = c - K.T @ y\n",
        "        x = np.minimum(np.maximum(x - tau * grad, l), u)\n",
        "\n",
        "        # Dual update\n",
        "        y += sigma * (q - K @ (2*x - x_old))\n",
        "        y[:m_1] = np.maximum(y[:m_1], 0)  # project onto constraint y:m_1 ≥ 0\n",
        "\n",
        "        # Check Termination Criteria Periodically\n",
        "        if i%term_period == 0:\n",
        "\n",
        "            dual_op = (q.T @ y)[0][0]\n",
        "            prim_op = (c.T @ x)[0][0]\n",
        "\n",
        "            lam_p_op = (l.T @ np.maximum(grad, 0))[0][0]\n",
        "            lam_n_op = (u.T @ np.minimum(grad, 0))[0][0]\n",
        "\n",
        "            #print(dual_op + lam_p_op + lam_n_op, prim_op)\n",
        "            #print(np.linalg.norm(np.vstack([A @ x - b, np.maximum(h - G @ x, 0)])))\n",
        "            #print(np.linalg.norm(np.vstack([A @ x - b, np.maximum(h - G @ x, 0)])), np.linalg.norm(grad - proj_Lam(grad)), np.abs(dual_op + lam_p_op - lam_n_op - prim_op))\n",
        "            #print(tol_dual, tol_prim, tol * (1 + np.abs(dual_op + lam_p_op - lam_n_op) + np.abs(prim_op)))\n",
        "\n",
        "            #Termination criteria\n",
        "            if (\n",
        "                np.linalg.norm(np.vstack([A @ x - b, np.maximum(h - G @ x, 0)])) <= tol_prim\n",
        "                and np.linalg.norm(grad - proj_Lam(grad)) <= tol_dual\n",
        "                and np.abs(dual_op + lam_p_op + lam_n_op - prim_op) <= tol * (1 + np.abs(dual_op + lam_p_op - lam_n_op) + np.abs(prim_op))\n",
        "            ):\n",
        "                break\n",
        "\n",
        "    # Returns minimal objective value, minimizer estimate in list format, and the number of iterations run\n",
        "    return (c.T @ x)[0][0], x.T[0].tolist(), i"
      ]
    },
    {
      "cell_type": "markdown",
      "id": "6fe8b000-1f6c-417c-9da3-1f6d921cccbc",
      "metadata": {
        "id": "6fe8b000-1f6c-417c-9da3-1f6d921cccbc"
      },
      "source": [
        "Testing the algorithm"
      ]
    },
    {
      "cell_type": "code",
      "execution_count": 11,
      "id": "a4278777-d23b-4002-8059-03db2d2c20b7",
      "metadata": {
        "id": "a4278777-d23b-4002-8059-03db2d2c20b7"
      },
      "outputs": [],
      "source": [
        "from time import perf_counter\n",
        "\n",
        "# Makes a timer to measure code omtimality\n",
        "class Timer:\n",
        "    def __enter__(self):\n",
        "        self.start = perf_counter()\n",
        "        return self\n",
        "    def __exit__(self, *args):\n",
        "        self.end = perf_counter()\n",
        "        self.elapsed = self.end - self.start\n",
        "        print(f\"Elapsed time: {self.elapsed:.6f} seconds\")\n"
      ]
    },
    {
      "cell_type": "code",
      "execution_count": null,
      "id": "cbd5f035-9038-4cbe-a797-c4fd45ffac7a",
      "metadata": {
        "id": "cbd5f035-9038-4cbe-a797-c4fd45ffac7a",
        "outputId": "47586f26-401f-4795-c1ab-dd49d51bbf61"
      },
      "outputs": [
        {
          "name": "stderr",
          "output_type": "stream",
          "text": [
            "/tmp/ipykernel_147092/277239451.py:38: DeprecationWarning: Conversion of an array with ndim > 0 to a scalar is deprecated, and will error in future. Ensure you extract a single element from your array before performing this operation. (Deprecated NumPy 1.25.)\n",
            "  pulp.LpVariable(f\"x{i}\", lowBound=float(l[i]), upBound=float(u[i]))\n",
            "/tmp/ipykernel_147092/277239451.py:45: DeprecationWarning: Conversion of an array with ndim > 0 to a scalar is deprecated, and will error in future. Ensure you extract a single element from your array before performing this operation. (Deprecated NumPy 1.25.)\n",
            "  prob += pulp.lpDot(G[i], x_vars) <= float(h[i]), f\"ineq_{i}\"\n",
            "/tmp/ipykernel_147092/277239451.py:49: DeprecationWarning: Conversion of an array with ndim > 0 to a scalar is deprecated, and will error in future. Ensure you extract a single element from your array before performing this operation. (Deprecated NumPy 1.25.)\n",
            "  prob += pulp.lpDot(A[i], x_vars) == float(b[i]), f\"eq_{i}\"\n"
          ]
        },
        {
          "name": "stdout",
          "output_type": "stream",
          "text": [
            "LP written to: large_example.mps\n"
          ]
        }
      ],
      "source": [
        "# Create a feasible LP problem and save to a\n",
        "generate_feasible_lp(num_vars=1000, num_ineq=500, num_eq=500, density=0.05, mps_filename=\"large_example.mps\")"
      ]
    },
    {
      "cell_type": "code",
      "execution_count": 12,
      "id": "ebf3cab3-6d82-4eb4-a405-01fa4d7bdacf",
      "metadata": {
        "colab": {
          "base_uri": "https://localhost:8080/",
          "height": 425
        },
        "id": "ebf3cab3-6d82-4eb4-a405-01fa4d7bdacf",
        "outputId": "14fb1754-371f-45c6-f254-34445a21051d"
      },
      "outputs": [
        {
          "output_type": "stream",
          "name": "stderr",
          "text": [
            "CPLEX Error  1423: Could not open file 'large_example.mps' for reading.\n",
            "CPLEX Error  1423: Could not open file 'large_example.mps.sav' for reading.\n",
            "CPLEX Error  1423: Could not open file 'large_example.mps' for reading.\n",
            "CPLEX Error  1423: Could not open file 'large_example.mps' for reading.\n"
          ]
        },
        {
          "output_type": "error",
          "ename": "CplexSolverError",
          "evalue": "CPLEX Error  1423: Could not open file 'large_example.mps' for reading.",
          "traceback": [
            "\u001b[0;31m---------------------------------------------------------------------------\u001b[0m",
            "\u001b[0;31mCplexSolverError\u001b[0m                          Traceback (most recent call last)",
            "\u001b[0;32m/tmp/ipython-input-12-2129163405.py\u001b[0m in \u001b[0;36m<cell line: 0>\u001b[0;34m()\u001b[0m\n\u001b[1;32m      3\u001b[0m \u001b[0;31m# Solve the LP using either primal simplex, dual simplex, or barrier (interior point).\u001b[0m\u001b[0;34m\u001b[0m\u001b[0;34m\u001b[0m\u001b[0m\n\u001b[1;32m      4\u001b[0m \u001b[0;31m# Only works for LP with no more than 1000 constraints and no more than 1000 variables\u001b[0m\u001b[0;34m\u001b[0m\u001b[0;34m\u001b[0m\u001b[0m\n\u001b[0;32m----> 5\u001b[0;31m \u001b[0mcpx\u001b[0m \u001b[0;34m=\u001b[0m \u001b[0mcplex\u001b[0m\u001b[0;34m.\u001b[0m\u001b[0mCplex\u001b[0m\u001b[0;34m(\u001b[0m\u001b[0;34m\"large_example.mps\"\u001b[0m\u001b[0;34m)\u001b[0m\u001b[0;34m\u001b[0m\u001b[0;34m\u001b[0m\u001b[0m\n\u001b[0m\u001b[1;32m      6\u001b[0m \u001b[0mc\u001b[0m\u001b[0;34m,\u001b[0m \u001b[0mG\u001b[0m\u001b[0;34m,\u001b[0m \u001b[0mh\u001b[0m\u001b[0;34m,\u001b[0m \u001b[0mA\u001b[0m\u001b[0;34m,\u001b[0m \u001b[0mb\u001b[0m\u001b[0;34m,\u001b[0m \u001b[0ml\u001b[0m\u001b[0;34m,\u001b[0m \u001b[0mu\u001b[0m \u001b[0;34m=\u001b[0m \u001b[0mmps_to_standard_form\u001b[0m\u001b[0;34m(\u001b[0m\u001b[0;34m\"large_example.mps\"\u001b[0m\u001b[0;34m)\u001b[0m\u001b[0;34m\u001b[0m\u001b[0;34m\u001b[0m\u001b[0m\n\u001b[1;32m      7\u001b[0m \u001b[0;34m\u001b[0m\u001b[0m\n",
            "\u001b[0;32m/usr/local/lib/python3.11/dist-packages/cplex/__init__.py\u001b[0m in \u001b[0;36m__init__\u001b[0;34m(self, *args)\u001b[0m\n\u001b[1;32m    807\u001b[0m             \u001b[0;32melif\u001b[0m \u001b[0misinstance\u001b[0m\u001b[0;34m(\u001b[0m\u001b[0margs\u001b[0m\u001b[0;34m[\u001b[0m\u001b[0;36m0\u001b[0m\u001b[0;34m]\u001b[0m\u001b[0;34m,\u001b[0m \u001b[0mstr\u001b[0m\u001b[0;34m)\u001b[0m\u001b[0;34m:\u001b[0m\u001b[0;34m\u001b[0m\u001b[0;34m\u001b[0m\u001b[0m\n\u001b[1;32m    808\u001b[0m                 \u001b[0mself\u001b[0m\u001b[0;34m.\u001b[0m\u001b[0m_lp\u001b[0m \u001b[0;34m=\u001b[0m \u001b[0m_proc\u001b[0m\u001b[0;34m.\u001b[0m\u001b[0mcreateprob\u001b[0m\u001b[0;34m(\u001b[0m\u001b[0mself\u001b[0m\u001b[0;34m.\u001b[0m\u001b[0m_env\u001b[0m\u001b[0;34m.\u001b[0m\u001b[0m_e\u001b[0m\u001b[0;34m,\u001b[0m \u001b[0margs\u001b[0m\u001b[0;34m[\u001b[0m\u001b[0;36m0\u001b[0m\u001b[0;34m]\u001b[0m\u001b[0;34m)\u001b[0m\u001b[0;34m\u001b[0m\u001b[0;34m\u001b[0m\u001b[0m\n\u001b[0;32m--> 809\u001b[0;31m                 \u001b[0m_proc\u001b[0m\u001b[0;34m.\u001b[0m\u001b[0mreadcopyprob\u001b[0m\u001b[0;34m(\u001b[0m\u001b[0mself\u001b[0m\u001b[0;34m.\u001b[0m\u001b[0m_env\u001b[0m\u001b[0;34m.\u001b[0m\u001b[0m_e\u001b[0m\u001b[0;34m,\u001b[0m \u001b[0mself\u001b[0m\u001b[0;34m.\u001b[0m\u001b[0m_lp\u001b[0m\u001b[0;34m,\u001b[0m \u001b[0margs\u001b[0m\u001b[0;34m[\u001b[0m\u001b[0;36m0\u001b[0m\u001b[0;34m]\u001b[0m\u001b[0;34m)\u001b[0m\u001b[0;34m\u001b[0m\u001b[0;34m\u001b[0m\u001b[0m\n\u001b[0m\u001b[1;32m    810\u001b[0m             \u001b[0;32melse\u001b[0m\u001b[0;34m:\u001b[0m\u001b[0;34m\u001b[0m\u001b[0;34m\u001b[0m\u001b[0m\n\u001b[1;32m    811\u001b[0m                 \u001b[0;32mraise\u001b[0m \u001b[0mTypeError\u001b[0m\u001b[0;34m(\u001b[0m\u001b[0;34m\"invalid argument: {0}\"\u001b[0m\u001b[0;34m.\u001b[0m\u001b[0mformat\u001b[0m\u001b[0;34m(\u001b[0m\u001b[0margs\u001b[0m\u001b[0;34m[\u001b[0m\u001b[0;36m0\u001b[0m\u001b[0;34m]\u001b[0m\u001b[0;34m)\u001b[0m\u001b[0;34m)\u001b[0m\u001b[0;34m\u001b[0m\u001b[0;34m\u001b[0m\u001b[0m\n",
            "\u001b[0;32m/usr/local/lib/python3.11/dist-packages/cplex/_internal/_procedural.py\u001b[0m in \u001b[0;36mreadcopyprob\u001b[0;34m(env, lp, filename, filetype)\u001b[0m\n\u001b[1;32m    686\u001b[0m     \u001b[0;32melse\u001b[0m\u001b[0;34m:\u001b[0m\u001b[0;34m\u001b[0m\u001b[0;34m\u001b[0m\u001b[0m\n\u001b[1;32m    687\u001b[0m         \u001b[0mstatus\u001b[0m \u001b[0;34m=\u001b[0m \u001b[0mCR\u001b[0m\u001b[0;34m.\u001b[0m\u001b[0mCPXXreadcopyprob\u001b[0m\u001b[0;34m(\u001b[0m\u001b[0menv\u001b[0m\u001b[0;34m,\u001b[0m \u001b[0mlp\u001b[0m\u001b[0;34m,\u001b[0m \u001b[0mfilename\u001b[0m\u001b[0;34m,\u001b[0m \u001b[0mfiletype\u001b[0m\u001b[0;34m)\u001b[0m\u001b[0;34m\u001b[0m\u001b[0;34m\u001b[0m\u001b[0m\n\u001b[0;32m--> 688\u001b[0;31m     \u001b[0mcheck_status\u001b[0m\u001b[0;34m(\u001b[0m\u001b[0menv\u001b[0m\u001b[0;34m,\u001b[0m \u001b[0mstatus\u001b[0m\u001b[0;34m)\u001b[0m\u001b[0;34m\u001b[0m\u001b[0;34m\u001b[0m\u001b[0m\n\u001b[0m\u001b[1;32m    689\u001b[0m \u001b[0;34m\u001b[0m\u001b[0m\n\u001b[1;32m    690\u001b[0m \u001b[0;34m\u001b[0m\u001b[0m\n",
            "\u001b[0;32m/usr/local/lib/python3.11/dist-packages/cplex/_internal/_procedural.py\u001b[0m in \u001b[0;36m__call__\u001b[0;34m(self, env, status, from_cb)\u001b[0m\n\u001b[1;32m    247\u001b[0m                 \u001b[0;32melse\u001b[0m\u001b[0;34m:\u001b[0m\u001b[0;34m\u001b[0m\u001b[0;34m\u001b[0m\u001b[0m\n\u001b[1;32m    248\u001b[0m                     \u001b[0merror_string\u001b[0m \u001b[0;34m=\u001b[0m \u001b[0mgeterrorstring\u001b[0m\u001b[0;34m(\u001b[0m\u001b[0menv\u001b[0m\u001b[0;34m,\u001b[0m \u001b[0mstatus\u001b[0m\u001b[0;34m)\u001b[0m\u001b[0;34m\u001b[0m\u001b[0;34m\u001b[0m\u001b[0m\n\u001b[0;32m--> 249\u001b[0;31m             \u001b[0;32mraise\u001b[0m \u001b[0mCplexSolverError\u001b[0m\u001b[0;34m(\u001b[0m\u001b[0merror_string\u001b[0m\u001b[0;34m,\u001b[0m \u001b[0menv\u001b[0m\u001b[0;34m,\u001b[0m \u001b[0mstatus\u001b[0m\u001b[0;34m)\u001b[0m\u001b[0;34m\u001b[0m\u001b[0;34m\u001b[0m\u001b[0m\n\u001b[0m\u001b[1;32m    250\u001b[0m \u001b[0;34m\u001b[0m\u001b[0m\n\u001b[1;32m    251\u001b[0m \u001b[0;34m\u001b[0m\u001b[0m\n",
            "\u001b[0;31mCplexSolverError\u001b[0m: CPLEX Error  1423: Could not open file 'large_example.mps' for reading."
          ]
        }
      ],
      "source": [
        "import cplex\n",
        "\n",
        "# Solve the LP using either primal simplex, dual simplex, or barrier (interior point).\n",
        "# Only works for LP with no more than 1000 constraints and no more than 1000 variables\n",
        "cpx = cplex.Cplex(\"large_example.mps\")\n",
        "c, G, h, A, b, l, u = mps_to_standard_form(\"large_example.mps\")\n",
        "\n",
        "# Times how long it takes to solve\n",
        "with Timer():\n",
        "    cpx.solve()\n",
        "\n",
        "# Save the minimizer and minimal objective values for comparison\n",
        "cpx_obj_val = cpx.solution.get_objective_value()\n",
        "cpx_min = cpx.solution.get_values()\n",
        "print(\"Objective value:\", cpx_obj_val)\n",
        "#print(\"Minimizer: xᵀ =\", cpx_min)"
      ]
    },
    {
      "cell_type": "code",
      "execution_count": 13,
      "id": "966b5f25-ac4d-4d65-98fd-840774dfd404",
      "metadata": {
        "colab": {
          "base_uri": "https://localhost:8080/",
          "height": 315
        },
        "id": "966b5f25-ac4d-4d65-98fd-840774dfd404",
        "outputId": "ed2e41c9-5125-4909-e8f6-562a6662b40f"
      },
      "outputs": [
        {
          "output_type": "stream",
          "name": "stderr",
          "text": [
            "CPLEX Error  1423: Could not open file 'large_example.mps' for reading.\n",
            "CPLEX Error  1423: Could not open file 'large_example.mps.sav' for reading.\n",
            "CPLEX Error  1423: Could not open file 'large_example.mps' for reading.\n",
            "CPLEX Error  1423: Could not open file 'large_example.mps' for reading.\n"
          ]
        },
        {
          "output_type": "stream",
          "name": "stdout",
          "text": [
            "CPLEX Error: CPLEX Error  1423: Could not open file 'large_example.mps' for reading.\n",
            "Elapsed time: 0.007759 seconds\n"
          ]
        },
        {
          "output_type": "error",
          "ename": "TypeError",
          "evalue": "cannot unpack non-iterable NoneType object",
          "traceback": [
            "\u001b[0;31m---------------------------------------------------------------------------\u001b[0m",
            "\u001b[0;31mTypeError\u001b[0m                                 Traceback (most recent call last)",
            "\u001b[0;32m/tmp/ipython-input-13-193208618.py\u001b[0m in \u001b[0;36m<cell line: 0>\u001b[0;34m()\u001b[0m\n\u001b[1;32m      1\u001b[0m \u001b[0;31m# Extract LP parameters from generated example\u001b[0m\u001b[0;34m\u001b[0m\u001b[0;34m\u001b[0m\u001b[0m\n\u001b[1;32m      2\u001b[0m \u001b[0;32mwith\u001b[0m \u001b[0mTimer\u001b[0m\u001b[0;34m(\u001b[0m\u001b[0;34m)\u001b[0m\u001b[0;34m:\u001b[0m\u001b[0;34m\u001b[0m\u001b[0;34m\u001b[0m\u001b[0m\n\u001b[0;32m----> 3\u001b[0;31m     \u001b[0mc\u001b[0m\u001b[0;34m,\u001b[0m \u001b[0mG\u001b[0m\u001b[0;34m,\u001b[0m \u001b[0mh\u001b[0m\u001b[0;34m,\u001b[0m \u001b[0mA\u001b[0m\u001b[0;34m,\u001b[0m \u001b[0mb\u001b[0m\u001b[0;34m,\u001b[0m \u001b[0ml\u001b[0m\u001b[0;34m,\u001b[0m \u001b[0mu\u001b[0m \u001b[0;34m=\u001b[0m \u001b[0mmps_to_standard_form\u001b[0m\u001b[0;34m(\u001b[0m\u001b[0;34m\"large_example.mps\"\u001b[0m\u001b[0;34m)\u001b[0m\u001b[0;34m\u001b[0m\u001b[0;34m\u001b[0m\u001b[0m\n\u001b[0m\u001b[1;32m      4\u001b[0m     \u001b[0mpdhg_obj_val\u001b[0m\u001b[0;34m,\u001b[0m \u001b[0mpdhg_min\u001b[0m\u001b[0;34m,\u001b[0m \u001b[0miterations\u001b[0m \u001b[0;34m=\u001b[0m \u001b[0mpdhg\u001b[0m\u001b[0;34m(\u001b[0m\u001b[0mc\u001b[0m\u001b[0;34m,\u001b[0m \u001b[0mG\u001b[0m\u001b[0;34m,\u001b[0m \u001b[0mh\u001b[0m\u001b[0;34m,\u001b[0m \u001b[0mA\u001b[0m\u001b[0;34m,\u001b[0m \u001b[0mb\u001b[0m\u001b[0;34m,\u001b[0m \u001b[0ml\u001b[0m\u001b[0;34m,\u001b[0m \u001b[0mu\u001b[0m\u001b[0;34m,\u001b[0m \u001b[0mmax_iter\u001b[0m\u001b[0;34m=\u001b[0m\u001b[0;36m1000000\u001b[0m\u001b[0;34m,\u001b[0m \u001b[0mtol\u001b[0m\u001b[0;34m=\u001b[0m\u001b[0;36m1e-8\u001b[0m\u001b[0;34m)\u001b[0m\u001b[0;34m\u001b[0m\u001b[0;34m\u001b[0m\u001b[0m\n\u001b[1;32m      5\u001b[0m \u001b[0mprint\u001b[0m\u001b[0;34m(\u001b[0m\u001b[0;34m\"Objective Value:\"\u001b[0m\u001b[0;34m,\u001b[0m \u001b[0mpdhg_obj_val\u001b[0m\u001b[0;34m)\u001b[0m\u001b[0;34m\u001b[0m\u001b[0;34m\u001b[0m\u001b[0m\n",
            "\u001b[0;31mTypeError\u001b[0m: cannot unpack non-iterable NoneType object"
          ]
        }
      ],
      "source": [
        "# Extract LP parameters from generated example\n",
        "with Timer():\n",
        "    c, G, h, A, b, l, u = mps_to_standard_form(\"large_example.mps\")\n",
        "    pdhg_obj_val, pdhg_min, iterations = pdhg(c, G, h, A, b, l, u, max_iter=1000000, tol=1e-8)\n",
        "print(\"Objective Value:\", pdhg_obj_val)\n",
        "print(\"Iterations:\", iterations)\n",
        "#print(\"Minimizer: xᵀ =\",pdhg_min)\n",
        "\n",
        "# The distance between the two minimizer solutions\n",
        "# Should be small but won't be incredibly small since the vectors are high dimensional\n",
        "#distance = np.linalg.norm(np.array(pdhg_min) - np.array(cpx_min))\n",
        "#print(\"Distance:\", distance)"
      ]
    },
    {
      "cell_type": "code",
      "execution_count": null,
      "id": "90264995-0efd-48e5-9ffe-3b37cd272752",
      "metadata": {
        "id": "90264995-0efd-48e5-9ffe-3b37cd272752"
      },
      "outputs": [],
      "source": []
    }
  ],
  "metadata": {
    "kernelspec": {
      "display_name": "Python 3 (ipykernel)",
      "language": "python",
      "name": "python3"
    },
    "language_info": {
      "codemirror_mode": {
        "name": "ipython",
        "version": 3
      },
      "file_extension": ".py",
      "mimetype": "text/x-python",
      "name": "python",
      "nbconvert_exporter": "python",
      "pygments_lexer": "ipython3",
      "version": "3.9.16"
    },
    "colab": {
      "provenance": []
    }
  },
  "nbformat": 4,
  "nbformat_minor": 5
}